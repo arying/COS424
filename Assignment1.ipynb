{
 "cells": [
  {
   "cell_type": "code",
   "execution_count": 16,
   "metadata": {
    "collapsed": true
   },
   "outputs": [],
   "source": [
    "#Load modules\n",
    "\n",
    "import sklearn\n",
    "from sklearn import metrics\n",
    "from sklearn import model_selection   #cross validation\n",
    "from sklearn.naive_bayes import BernoulliNB #Bernoulli Naive Bayes Classifier\n",
    "from sklearn.tree import DecisionTreeClassifier   #Decision Tree Classifier\n",
    "from sklearn.ensemble import RandomForestClassifier  #Random Forest Classifier\n",
    "from sklearn.metrics import roc_curve,auc\n",
    "\n",
    "import matplotlib.pyplot as plt\n",
    "import numpy as np\n",
    "from scipy import interp"
   ]
  },
  {
   "cell_type": "code",
   "execution_count": 8,
   "metadata": {
    "collapsed": true
   },
   "outputs": [],
   "source": [
    "#Load Train and Test datasets\n",
    "\n",
    "Y_train = np.loadtxt('train_classes_5.txt') \n",
    "X_train = np.loadtxt('train_bag_of_words_5.csv',delimiter=',')  \n",
    "X_test = np.loadtxt('test_bag_of_words_0.csv',delimiter=',')\n",
    "Y_test = np.loadtxt('test_classes_0.txt')"
   ]
  },
  {
   "cell_type": "code",
   "execution_count": 9,
   "metadata": {},
   "outputs": [
    {
     "name": "stdout",
     "output_type": "stream",
     "text": [
      "0.773333333333\n"
     ]
    }
   ],
   "source": [
    "#Naive Bayes:Bernoullli by Ping\n",
    "BerNB = BernoulliNB()\n",
    "BerNB.fit(X_train,Y_train)\n",
    "\n",
    "Y_pred = BerNB.predict(X_test)\n",
    "y_score = BerNB.predict_proba(X_test)\n",
    "\n",
    "print (metrics.accuracy_score(Y_test, Y_pred) )"
   ]
  },
  {
   "cell_type": "code",
   "execution_count": null,
   "metadata": {
    "collapsed": true
   },
   "outputs": [],
   "source": [
    "#Decision Tree Classifier by Anran\n",
    "\n",
    "model = DecisionTreeClassifier()\n",
    "model.fit(X, y)\n",
    "print(model)\n",
    "# make predictions\n",
    "expected = y\n",
    "predicted = model.predict(X)\n",
    "# summarize the fit of the model\n",
    "print(metrics.classification_report(expected, predicted))\n",
    "print(metrics.confusion_matrix(expected, predicted))"
   ]
  },
  {
   "cell_type": "code",
   "execution_count": null,
   "metadata": {
    "collapsed": true
   },
   "outputs": [],
   "source": [
    "#ROC curve\n",
    "\n",
    " # Compute ROC curve and area the curve  \n",
    "    #通过roc_curve()函数，求出fpr和tpr，以及阈值  \n",
    "    fpr, tpr, thresholds = roc_curve(Y_test, probas_[:, 1])  \n",
    "    mean_tpr += interp(mean_fpr, fpr, tpr)          #对mean_tpr在mean_fpr处进行插值，通过scipy包调用interp()函数  \n",
    "    mean_tpr[0] = 0.0                               #初始处为0  \n",
    "    roc_auc = auc(fpr, tpr)  \n",
    "    #画图，只需要plt.plot(fpr,tpr),变量roc_auc只是记录auc的值，通过auc()函数能计算出来  \n",
    "    plt.plot(fpr, tpr, lw=1, label='ROC fold %d (area = %0.2f)' % (i, roc_auc))  \n",
    "    \n",
    "plt.plot([0, 1], [0, 1], '--', color=(0.6, 0.6, 0.6), label='Luck')  \n",
    "  \n",
    "mean_tpr /= len(cv)                     #在mean_fpr100个点，每个点处插值插值多次取平均  \n",
    "mean_tpr[-1] = 1.0                      #坐标最后一个点为（1,1）  \n",
    "mean_auc = auc(mean_fpr, mean_tpr)      #计算平均AUC值  \n",
    "#画平均ROC曲线  \n",
    "#print mean_fpr,len(mean_fpr)  \n",
    "#print mean_tpr  \n",
    "plt.plot(mean_fpr, mean_tpr, 'k--',  \n",
    "         label='Mean ROC (area = %0.2f)' % mean_auc, lw=2)  \n",
    "  \n",
    "plt.xlim([-0.05, 1.05])  \n",
    "plt.ylim([-0.05, 1.05])  \n",
    "plt.xlabel('False Positive Rate')  \n",
    "plt.ylabel('True Positive Rate')  \n",
    "plt.title('Receiver operating characteristic example')  \n",
    "plt.legend(loc=\"lower right\")  \n",
    "plt.show() \n",
    "\n",
    "\n"
   ]
  },
  {
   "cell_type": "code",
   "execution_count": null,
   "metadata": {
    "collapsed": true
   },
   "outputs": [],
   "source": [
    "#ROC for NB Classifier by Ping\n",
    "fpr1,tpr1,_ = roc_curve(1-Y_test,y_score[:,0])\n",
    "roc_auc1= auc(fpr1, tpr1)\n",
    "fpr2,tpr2,_ = roc_curve(Y_test,y_score[:,1])\n",
    "roc_auc2= auc(fpr2, tpr2)\n",
    "\n",
    "lw = 2\n",
    "plt.plot(fpr1, tpr1, color='darkorange',\n",
    "         lw=lw, label='ROC curve of class 0(area = %0.2f)' % roc_auc1)\n",
    "plt.plot(fpr2, tpr2, color='red',\n",
    "         lw=lw, label='ROC curve of class 1(area = %0.2f)' % roc_auc2)\n",
    "plt.plot([0, 1], [0, 1], color='navy', lw=lw, linestyle='--')\n",
    "plt.xlim([0.0, 1.0])\n",
    "plt.ylim([0.0, 1.05])\n",
    "plt.xlabel('False Positive Rate')\n",
    "plt.ylabel('True Positive Rate')\n",
    "plt.title('Receiver operating characteristic example')\n",
    "plt.legend(loc=\"lower right\")\n",
    "plt.show()"
   ]
  }
 ],
 "metadata": {
  "kernelspec": {
   "display_name": "Python 3",
   "language": "python",
   "name": "python3"
  },
  "language_info": {
   "codemirror_mode": {
    "name": "ipython",
    "version": 3
   },
   "file_extension": ".py",
   "mimetype": "text/x-python",
   "name": "python",
   "nbconvert_exporter": "python",
   "pygments_lexer": "ipython3",
   "version": "3.6.3"
  }
 },
 "nbformat": 4,
 "nbformat_minor": 2
}
